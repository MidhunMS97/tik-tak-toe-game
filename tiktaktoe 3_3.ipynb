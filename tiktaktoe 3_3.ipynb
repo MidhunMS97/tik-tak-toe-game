{
 "cells": [
  {
   "cell_type": "code",
   "execution_count": 3,
   "id": "564577d5-671b-438a-a30b-1bc28ce2d9b3",
   "metadata": {},
   "outputs": [],
   "source": [
    "#Set up your board as a list\n",
    "\n",
    "from IPython.display import clear_output\n",
    "\n",
    "def display_board(board):\n",
    "    clear_output()\n",
    "    \n",
    "    print('  |   |  ')\n",
    "    print( board[7] + ' | ' + board[8] + ' | ' + board[9])\n",
    "    print('  |   |  ')\n",
    "    print('---------')\n",
    "    print('  |   |  ')\n",
    "    print( board[4] + ' | ' + board[5] + ' | ' + board[6])\n",
    "    print('  |   |  ')\n",
    "    print('---------')\n",
    "    print('  |   |  ')\n",
    "    print( board[1] + ' | ' + board[2] + ' | ' + board[3])\n",
    "    print('  |   |  ')\n",
    "    "
   ]
  },
  {
   "cell_type": "code",
   "execution_count": 4,
   "id": "70e4a2b4-8d29-416d-8d06-1acced6f7903",
   "metadata": {},
   "outputs": [
    {
     "name": "stdout",
     "output_type": "stream",
     "text": [
      "  |   |  \n",
      "X | O | X\n",
      "  |   |  \n",
      "---------\n",
      "  |   |  \n",
      "O | X | O\n",
      "  |   |  \n",
      "---------\n",
      "  |   |  \n",
      "X | O | X\n",
      "  |   |  \n"
     ]
    }
   ],
   "source": [
    "test_board = ['#','X','O','X','O','X','O','X','O','X']\n",
    "display_board(test_board)\n",
    "# \"#\" is for the zeroth position"
   ]
  },
  {
   "cell_type": "code",
   "execution_count": null,
   "id": "72219d79-9a9c-44c3-b588-7cfd8c3198fc",
   "metadata": {},
   "outputs": [],
   "source": []
  },
  {
   "cell_type": "code",
   "execution_count": 5,
   "id": "78594940-f259-47dc-9073-75833194dd1c",
   "metadata": {},
   "outputs": [],
   "source": [
    "#function that can take in a player input and assign their marker as 'X' or 'O'\n",
    "\n",
    "def player_input():\n",
    "    \n",
    "    '''OUTPUT = (player 1 marker, player 2 marker)'''\n",
    "    \n",
    "    marker = ' '\n",
    "    \n",
    "    while not(marker == 'X' or marker == 'O'):\n",
    "        marker = input('Player 1: Do you want to be X or O ? ').upper()\n",
    "        \n",
    "    if marker == 'X':\n",
    "        return ('X','O')\n",
    "    else:\n",
    "        return ('O','X')\n",
    "    \n",
    "        \n",
    "        \n",
    "    "
   ]
  },
  {
   "cell_type": "code",
   "execution_count": 7,
   "id": "84088429-a478-4096-99f1-d27439459fdf",
   "metadata": {},
   "outputs": [
    {
     "name": "stdin",
     "output_type": "stream",
     "text": [
      "Player 1: Do you want to be X or O ?  X\n"
     ]
    },
    {
     "data": {
      "text/plain": [
       "('X', 'O')"
      ]
     },
     "execution_count": 7,
     "metadata": {},
     "output_type": "execute_result"
    }
   ],
   "source": [
    "player_input()"
   ]
  },
  {
   "cell_type": "code",
   "execution_count": 8,
   "id": "8ac351ff-8eb9-4c51-8f13-902334983a3e",
   "metadata": {},
   "outputs": [
    {
     "name": "stdin",
     "output_type": "stream",
     "text": [
      "Player 1: Do you want to be X or O ?  x\n"
     ]
    }
   ],
   "source": [
    "player1_marker, player2_marker = player_input()"
   ]
  },
  {
   "cell_type": "code",
   "execution_count": 7,
   "id": "e75d56bf-3830-4e18-978b-c5d63d05b649",
   "metadata": {},
   "outputs": [
    {
     "data": {
      "text/plain": [
       "'O'"
      ]
     },
     "execution_count": 7,
     "metadata": {},
     "output_type": "execute_result"
    }
   ],
   "source": [
    "player1_marker"
   ]
  },
  {
   "cell_type": "code",
   "execution_count": 8,
   "id": "e673b62a-4a15-4411-a87d-34f86040590e",
   "metadata": {},
   "outputs": [
    {
     "data": {
      "text/plain": [
       "'X'"
      ]
     },
     "execution_count": 8,
     "metadata": {},
     "output_type": "execute_result"
    }
   ],
   "source": [
    "player2_marker"
   ]
  },
  {
   "cell_type": "code",
   "execution_count": null,
   "id": "d0a86653-d8f4-4b6f-9aae-307d3f213b5d",
   "metadata": {},
   "outputs": [],
   "source": []
  },
  {
   "cell_type": "code",
   "execution_count": 9,
   "id": "194bc115-79fd-4696-8012-b1bb8c8996ff",
   "metadata": {},
   "outputs": [],
   "source": [
    "#function that takes in the board list object, a marker ('X' or 'O')\n",
    "\n",
    "def place_marker(board,marker,position): \n",
    "    board[position] = marker\n",
    "    "
   ]
  },
  {
   "cell_type": "code",
   "execution_count": 10,
   "id": "f9ff8fd0-51cf-4e41-94e6-873a1d225012",
   "metadata": {},
   "outputs": [
    {
     "name": "stdout",
     "output_type": "stream",
     "text": [
      "  |   |  \n",
      "X | O | X\n",
      "  |   |  \n",
      "---------\n",
      "  |   |  \n",
      "O | X | M\n",
      "  |   |  \n",
      "---------\n",
      "  |   |  \n",
      "X | O | X\n",
      "  |   |  \n"
     ]
    }
   ],
   "source": [
    "place_marker(test_board,'M',6)\n",
    "display_board(test_board)"
   ]
  },
  {
   "cell_type": "code",
   "execution_count": null,
   "id": "688d7ad1-356d-4016-9731-a20dd620aa61",
   "metadata": {},
   "outputs": [],
   "source": []
  },
  {
   "cell_type": "code",
   "execution_count": 11,
   "id": "86b581e4-a268-4b56-a218-67384a7c9284",
   "metadata": {},
   "outputs": [],
   "source": [
    "#function that takes in a board and checks to see if someone has won\n",
    "\n",
    "def win_check(board,mark):\n",
    "    \n",
    "    return ((board[7] == mark and board[8] == mark and board[9] == mark) or\n",
    "            (board[4] == mark and board[5] == mark and board[6] == mark) or\n",
    "            (board[1] == mark and board[2]  == mark and board[3] == mark) or\n",
    "            (board[1] == mark and board[4] == mark and board[7] == mark) or\n",
    "            (board[2] == mark and board[5] == mark and board[8] == mark) or\n",
    "            (board[3] == mark and board[6] == mark and board[9] == mark) or\n",
    "            (board[3] == mark and board[5] == mark and board[7] == mark) or\n",
    "            (board[1] == mark and board[5] == mark and board[9] == mark))"
   ]
  },
  {
   "cell_type": "code",
   "execution_count": 12,
   "id": "ea735676-5787-42bd-a42c-0e3554303d80",
   "metadata": {},
   "outputs": [
    {
     "name": "stdout",
     "output_type": "stream",
     "text": [
      "  |   |  \n",
      "X | O | X\n",
      "  |   |  \n",
      "---------\n",
      "  |   |  \n",
      "O | X | M\n",
      "  |   |  \n",
      "---------\n",
      "  |   |  \n",
      "X | O | X\n",
      "  |   |  \n"
     ]
    },
    {
     "data": {
      "text/plain": [
       "True"
      ]
     },
     "execution_count": 12,
     "metadata": {},
     "output_type": "execute_result"
    }
   ],
   "source": [
    "display_board(test_board)\n",
    "win_check(test_board,'X')"
   ]
  },
  {
   "cell_type": "code",
   "execution_count": 13,
   "id": "c79b6d44-f480-4372-885b-2c8f4e6d4b06",
   "metadata": {},
   "outputs": [
    {
     "data": {
      "text/plain": [
       "False"
      ]
     },
     "execution_count": 13,
     "metadata": {},
     "output_type": "execute_result"
    }
   ],
   "source": [
    "win_check(test_board,'O')"
   ]
  },
  {
   "cell_type": "code",
   "execution_count": null,
   "id": "d3e223a1-87eb-4264-868c-acb0618e7979",
   "metadata": {},
   "outputs": [],
   "source": []
  },
  {
   "cell_type": "code",
   "execution_count": 31,
   "id": "c14041d8-3757-4fe5-96c9-7863d59ed32c",
   "metadata": {},
   "outputs": [],
   "source": [
    "#WHICH PLAYER GOES FIRST\n",
    "\n",
    "import random\n",
    "\n",
    "def choose_first():\n",
    "    \n",
    "    if random.randint(0,1) == 0:\n",
    "        return 'player 1'\n",
    "    else:\n",
    "        return 'player 2'"
   ]
  },
  {
   "cell_type": "code",
   "execution_count": null,
   "id": "8bf79f9f-f925-4542-a8dd-dd0afd49db32",
   "metadata": {},
   "outputs": [],
   "source": []
  },
  {
   "cell_type": "code",
   "execution_count": 15,
   "id": "7b30ae70-08cb-4c2e-84e2-394d4e3fa044",
   "metadata": {},
   "outputs": [],
   "source": [
    "#returns a boolean indicating whether a space on the board is freely available\n",
    "\n",
    "def space_check(board,position):\n",
    "    \n",
    "    return board[position] == ' '\n",
    "    \n",
    "    "
   ]
  },
  {
   "cell_type": "code",
   "execution_count": 16,
   "id": "7518bd34-7dd8-4e95-8a6f-3807647db2d4",
   "metadata": {},
   "outputs": [],
   "source": [
    "#checks if the board is full and returns a boolean value. True if full, False otherwise\n",
    "\n",
    "def full_board_check(board):\n",
    "    \n",
    "    for i in range(0-10):\n",
    "        if space_check(board,i):\n",
    "            return False\n",
    "        return True"
   ]
  },
  {
   "cell_type": "code",
   "execution_count": null,
   "id": "5f77338e-775b-4321-bfc9-fce4e7ba9aac",
   "metadata": {},
   "outputs": [],
   "source": []
  },
  {
   "cell_type": "code",
   "execution_count": 17,
   "id": "26886e5c-a9cf-49b7-b5c0-b0d54edb4e81",
   "metadata": {},
   "outputs": [],
   "source": [
    "#Write a function that asks for a player's next position\n",
    "\n",
    "def player_choice(board):\n",
    "    \n",
    "    position = 0\n",
    "    \n",
    "    while position not in [1,2,3,4,5,6,7,8,9] or not space_check(board,position):\n",
    "        \n",
    "        position = int(input('choose a position: (1-9)' ))\n",
    "        \n",
    "    return position"
   ]
  },
  {
   "cell_type": "code",
   "execution_count": null,
   "id": "f55c3fd7-fc00-4250-8644-c015c129dc55",
   "metadata": {},
   "outputs": [],
   "source": []
  },
  {
   "cell_type": "code",
   "execution_count": 18,
   "id": "9ff3b422-8843-474f-a130-f6c3652e0649",
   "metadata": {},
   "outputs": [],
   "source": [
    "#function that asks the player if they want to play again and returns a boolean True if they do want to play again\n",
    "\n",
    "def replay():\n",
    "    \n",
    "    choice = input(\"Play again? Enter Yes or No\")\n",
    "    \n",
    "    return choice == 'Yes'"
   ]
  },
  {
   "cell_type": "code",
   "execution_count": 19,
   "id": "99beeea4-6736-422e-8585-5858d55d9ca8",
   "metadata": {},
   "outputs": [
    {
     "name": "stdin",
     "output_type": "stream",
     "text": [
      "Play again? Enter Yes or No No\n"
     ]
    },
    {
     "data": {
      "text/plain": [
       "False"
      ]
     },
     "execution_count": 19,
     "metadata": {},
     "output_type": "execute_result"
    }
   ],
   "source": [
    "replay()"
   ]
  },
  {
   "cell_type": "code",
   "execution_count": null,
   "id": "c6a346fe-e090-4287-88e5-821bb7607bb0",
   "metadata": {},
   "outputs": [],
   "source": []
  },
  {
   "cell_type": "code",
   "execution_count": null,
   "id": "822fecd3-bb8a-4c5a-9517-9c5fbcde6d5e",
   "metadata": {},
   "outputs": [],
   "source": []
  },
  {
   "cell_type": "code",
   "execution_count": 33,
   "id": "31e01b94-4a5b-41ad-88f2-2cf7e25b3821",
   "metadata": {},
   "outputs": [
    {
     "name": "stdout",
     "output_type": "stream",
     "text": [
      "  |   |  \n",
      "  |   |  \n",
      "  |   |  \n",
      "---------\n",
      "  |   |  \n",
      "  |   |  \n",
      "  |   |  \n",
      "---------\n",
      "  |   |  \n",
      "  |   |  \n",
      "  |   |  \n"
     ]
    },
    {
     "name": "stdin",
     "output_type": "stream",
     "text": [
      "choose a position: (1-9) 1\n"
     ]
    },
    {
     "ename": "NameError",
     "evalue": "name 'board' is not defined",
     "output_type": "error",
     "traceback": [
      "\u001b[0;31m---------------------------------------------------------------------------\u001b[0m",
      "\u001b[0;31mNameError\u001b[0m                                 Traceback (most recent call last)",
      "Cell \u001b[0;32mIn [33], line 37\u001b[0m\n\u001b[1;32m     34\u001b[0m place_marker(the_board,player1_marker,position)\n\u001b[1;32m     36\u001b[0m \u001b[38;5;66;03m#check if they won\u001b[39;00m\n\u001b[0;32m---> 37\u001b[0m \u001b[38;5;28;01mif\u001b[39;00m win_check(\u001b[43mboard\u001b[49m,player1_marker):\n\u001b[1;32m     38\u001b[0m     display_board(the_board)\n\u001b[1;32m     39\u001b[0m     \u001b[38;5;28mprint\u001b[39m(\u001b[38;5;124m'\u001b[39m\u001b[38;5;124mPlayer 1 has won\u001b[39m\u001b[38;5;124m'\u001b[39m)\n",
      "\u001b[0;31mNameError\u001b[0m: name 'board' is not defined"
     ]
    }
   ],
   "source": [
    "### print(\"WELCOME TO TIK TAK TOE\")\n",
    "\n",
    "while True:\n",
    "    \n",
    "    #the board, who is gonna play first and markers\n",
    "    \n",
    "    the_board = [' ']*10\n",
    "    player1_marker,player2_marker = player_input()\n",
    "    \n",
    "    turn = choose_first()\n",
    "    print(turn + ' will play first')\n",
    "    \n",
    "    play_game = input('Ready to play game? Y or N ')\n",
    "    if play_game == 'Y':\n",
    "        game_on = True\n",
    "    else:\n",
    "        game_on = False\n",
    "        \n",
    "        \n",
    "    #GAME PLAY\n",
    "    \n",
    "    while game_on:\n",
    "        \n",
    "        if turn == 'player 1':\n",
    "            #player 1 turn\n",
    "            \n",
    "            #show the board\n",
    "            display_board(the_board)\n",
    "            \n",
    "            #choose a position\n",
    "            position = player_choice(the_board)\n",
    "            \n",
    "            #place the marker on the position\n",
    "            place_marker(the_board,player1_marker,position)\n",
    "            \n",
    "            #check if they won\n",
    "            if win_check(the_board,player1_marker):\n",
    "                display_board(the_board)\n",
    "                print('Player 1 has won')\n",
    "                game_on = False\n",
    "                \n",
    "            # check for a tie   \n",
    "            else:\n",
    "                if full_board_check(the_board):\n",
    "                    display_board(the_board)\n",
    "                    print(\"The game is a tie\")\n",
    "                    game_on = False\n",
    "                else:\n",
    "                    turn = 'player 2' \n",
    "           \n",
    "            #if not next players move\n",
    "            \n",
    "        else:\n",
    "            #player 2 turn\n",
    "            \n",
    "            #Show the board\n",
    "            display_board(the_board)\n",
    "            \n",
    "            #choose a position\n",
    "            position = player_choice(the_board)\n",
    "            \n",
    "            #place the marker on the position\n",
    "            place_marker(the_board,player2_marker,position)\n",
    "            \n",
    "            #check if the won\n",
    "            if win_check(the_board,player2_marker):\n",
    "                display_board(the_board)\n",
    "                print('Player 2 has won')\n",
    "                game_on = False\n",
    "            #check for tie\n",
    "            else:\n",
    "                if full_board_check(the_board):\n",
    "                    display_board(the_board)\n",
    "                    print('The game is a tie')\n",
    "                    game_on = False\n",
    "                else:\n",
    "                    turn = 'player 1'\n",
    "    \n",
    "    if not replay():\n",
    "        break\n",
    "        \n",
    "    #break out of while loop\n",
    "                \n",
    "    \n",
    "    "
   ]
  },
  {
   "cell_type": "code",
   "execution_count": null,
   "id": "b35225ab-3b08-486e-b1da-19f2fd005bbf",
   "metadata": {},
   "outputs": [],
   "source": []
  }
 ],
 "metadata": {
  "kernelspec": {
   "display_name": "Python 3 (ipykernel)",
   "language": "python",
   "name": "python3"
  },
  "language_info": {
   "codemirror_mode": {
    "name": "ipython",
    "version": 3
   },
   "file_extension": ".py",
   "mimetype": "text/x-python",
   "name": "python",
   "nbconvert_exporter": "python",
   "pygments_lexer": "ipython3",
   "version": "3.10.6"
  }
 },
 "nbformat": 4,
 "nbformat_minor": 5
}
